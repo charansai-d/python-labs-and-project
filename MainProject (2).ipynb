{
 "cells": [
  {
   "cell_type": "markdown",
   "id": "74466404",
   "metadata": {},
   "source": [
    "# Project Title : Healthcare Analysis Using Python #\n"
   ]
  },
  {
   "cell_type": "markdown",
   "id": "40c0562c",
   "metadata": {},
   "source": [
    "## Purpose"
   ]
  },
  {
   "cell_type": "markdown",
   "id": "cdc1ecfa",
   "metadata": {},
   "source": [
    "###  \n",
    "This study explores the utilization of Python for healthcare analysis, focusing on its applicability and benefits in extracting insights from healthcare data. Through examples and methodologies, it showcases how Python's diverse libraries facilitate tasks such as data manipulation, statistical analysis, and visualization in healthcare settings. The study emphasizes the potential impact of Python-driven analysis on improving patient outcomes, operational efficiency, and decision-making within the healthcare industry."
   ]
  },
  {
   "cell_type": "markdown",
   "id": "cce5dea7",
   "metadata": {},
   "source": [
    "# Step 1: Importing necessary packages"
   ]
  },
  {
   "cell_type": "code",
   "execution_count": 2,
   "id": "d4d55776",
   "metadata": {},
   "outputs": [],
   "source": [
    "# Importing the different libraries for analysing and visualizing the dataset\n",
    "import pandas as pd #Import the Pandas library as \"pd\", and used for data manipulation\n",
    "import numpy as np  #NumPy is a Python library used for numerical computing.\n",
    "import matplotlib.pyplot as plt # Matplotlib for data visualization\n",
    "\n",
    "# Seaborn is a Python data visualization library based on Matplotlib.\n",
    "import seaborn as sns"
   ]
  },
  {
   "cell_type": "markdown",
   "id": "94aba209",
   "metadata": {},
   "source": [
    "# Step 2: Loading the data from the local system to the jupyter notebook"
   ]
  },
  {
   "cell_type": "code",
   "execution_count": 5,
   "id": "1ae6b601",
   "metadata": {},
   "outputs": [
    {
     "name": "stdout",
     "output_type": "stream",
     "text": [
      "         Disease Fever Cough Fatigue Difficulty Breathing  Age  Gender  \\\n",
      "0      Influenza   Yes    No     Yes                  Yes   19  Female   \n",
      "1    Common Cold    No   Yes     Yes                   No   25  Female   \n",
      "2         Eczema    No   Yes     Yes                   No   25  Female   \n",
      "3         Asthma   Yes   Yes      No                  Yes   25    Male   \n",
      "4         Asthma   Yes   Yes      No                  Yes   25    Male   \n",
      "..           ...   ...   ...     ...                  ...  ...     ...   \n",
      "344       Stroke   Yes    No     Yes                   No   80  Female   \n",
      "345       Stroke   Yes    No     Yes                   No   85    Male   \n",
      "346       Stroke   Yes    No     Yes                   No   85    Male   \n",
      "347       Stroke   Yes    No     Yes                   No   90  Female   \n",
      "348       Stroke   Yes    No     Yes                   No   90  Female   \n",
      "\n",
      "    Blood Pressure Cholesterol Level Outcome Variable Blood Type  \n",
      "0              Low            Normal         Positive         O-  \n",
      "1           Normal            Normal         Negative         O+  \n",
      "2           Normal            Normal         Negative         B-  \n",
      "3           Normal            Normal         Positive         B-  \n",
      "4           Normal            Normal         Positive         O-  \n",
      "..             ...               ...              ...        ...  \n",
      "344           High              High         Positive         O+  \n",
      "345           High              High         Positive         O-  \n",
      "346           High              High         Positive         A-  \n",
      "347           High              High         Positive        AB-  \n",
      "348           High              High         Positive        AB+  \n",
      "\n",
      "[349 rows x 11 columns]\n"
     ]
    }
   ],
   "source": [
    "# Importing the dataset / Load the files\n",
    "data =pd.read_csv('C:\\\\Users\\\\Lenovo\\\\Downloads\\\\HealthCare_Dataset1.csv')\n",
    "\n",
    "\n",
    "#Print the dataset\n",
    "print(data)"
   ]
  },
  {
   "cell_type": "markdown",
   "id": "5c56dd0a",
   "metadata": {},
   "source": [
    "### Step 3: Data View"
   ]
  },
  {
   "cell_type": "code",
   "execution_count": 19,
   "id": "02c2f4c1",
   "metadata": {},
   "outputs": [
    {
     "data": {
      "text/plain": [
       "Index(['Disease', 'Fever', 'Cough', 'Fatigue', 'Difficulty Breathing', 'Age',\n",
       "       'Gender', 'Blood Pressure', 'Cholesterol Level', 'Outcome Variable'],\n",
       "      dtype='object')"
      ]
     },
     "execution_count": 19,
     "metadata": {},
     "output_type": "execute_result"
    }
   ],
   "source": [
    "#display all column names of the dataset\n",
    "data.columns"
   ]
  },
  {
   "cell_type": "code",
   "execution_count": 20,
   "id": "6dc5f07e",
   "metadata": {},
   "outputs": [
    {
     "data": {
      "text/html": [
       "<div>\n",
       "<style scoped>\n",
       "    .dataframe tbody tr th:only-of-type {\n",
       "        vertical-align: middle;\n",
       "    }\n",
       "\n",
       "    .dataframe tbody tr th {\n",
       "        vertical-align: top;\n",
       "    }\n",
       "\n",
       "    .dataframe thead th {\n",
       "        text-align: right;\n",
       "    }\n",
       "</style>\n",
       "<table border=\"1\" class=\"dataframe\">\n",
       "  <thead>\n",
       "    <tr style=\"text-align: right;\">\n",
       "      <th></th>\n",
       "      <th>Disease</th>\n",
       "      <th>Fever</th>\n",
       "      <th>Cough</th>\n",
       "      <th>Fatigue</th>\n",
       "      <th>Difficulty Breathing</th>\n",
       "      <th>Age</th>\n",
       "      <th>Gender</th>\n",
       "      <th>Blood Pressure</th>\n",
       "      <th>Cholesterol Level</th>\n",
       "      <th>Outcome Variable</th>\n",
       "    </tr>\n",
       "  </thead>\n",
       "  <tbody>\n",
       "    <tr>\n",
       "      <th>0</th>\n",
       "      <td>Influenza</td>\n",
       "      <td>Yes</td>\n",
       "      <td>No</td>\n",
       "      <td>Yes</td>\n",
       "      <td>Yes</td>\n",
       "      <td>19</td>\n",
       "      <td>Female</td>\n",
       "      <td>Low</td>\n",
       "      <td>Normal</td>\n",
       "      <td>Positive</td>\n",
       "    </tr>\n",
       "    <tr>\n",
       "      <th>1</th>\n",
       "      <td>Common Cold</td>\n",
       "      <td>No</td>\n",
       "      <td>Yes</td>\n",
       "      <td>Yes</td>\n",
       "      <td>No</td>\n",
       "      <td>25</td>\n",
       "      <td>Female</td>\n",
       "      <td>Normal</td>\n",
       "      <td>Normal</td>\n",
       "      <td>Negative</td>\n",
       "    </tr>\n",
       "    <tr>\n",
       "      <th>2</th>\n",
       "      <td>Eczema</td>\n",
       "      <td>No</td>\n",
       "      <td>Yes</td>\n",
       "      <td>Yes</td>\n",
       "      <td>No</td>\n",
       "      <td>25</td>\n",
       "      <td>Female</td>\n",
       "      <td>Normal</td>\n",
       "      <td>Normal</td>\n",
       "      <td>Negative</td>\n",
       "    </tr>\n",
       "    <tr>\n",
       "      <th>3</th>\n",
       "      <td>Asthma</td>\n",
       "      <td>Yes</td>\n",
       "      <td>Yes</td>\n",
       "      <td>No</td>\n",
       "      <td>Yes</td>\n",
       "      <td>25</td>\n",
       "      <td>Male</td>\n",
       "      <td>Normal</td>\n",
       "      <td>Normal</td>\n",
       "      <td>Positive</td>\n",
       "    </tr>\n",
       "    <tr>\n",
       "      <th>4</th>\n",
       "      <td>Asthma</td>\n",
       "      <td>Yes</td>\n",
       "      <td>Yes</td>\n",
       "      <td>No</td>\n",
       "      <td>Yes</td>\n",
       "      <td>25</td>\n",
       "      <td>Male</td>\n",
       "      <td>Normal</td>\n",
       "      <td>Normal</td>\n",
       "      <td>Positive</td>\n",
       "    </tr>\n",
       "  </tbody>\n",
       "</table>\n",
       "</div>"
      ],
      "text/plain": [
       "       Disease Fever Cough Fatigue Difficulty Breathing  Age  Gender  \\\n",
       "0    Influenza   Yes    No     Yes                  Yes   19  Female   \n",
       "1  Common Cold    No   Yes     Yes                   No   25  Female   \n",
       "2       Eczema    No   Yes     Yes                   No   25  Female   \n",
       "3       Asthma   Yes   Yes      No                  Yes   25    Male   \n",
       "4       Asthma   Yes   Yes      No                  Yes   25    Male   \n",
       "\n",
       "  Blood Pressure Cholesterol Level Outcome Variable  \n",
       "0            Low            Normal         Positive  \n",
       "1         Normal            Normal         Negative  \n",
       "2         Normal            Normal         Negative  \n",
       "3         Normal            Normal         Positive  \n",
       "4         Normal            Normal         Positive  "
      ]
     },
     "execution_count": 20,
     "metadata": {},
     "output_type": "execute_result"
    }
   ],
   "source": [
    "# list of first five rows\n",
    "data.head()"
   ]
  },
  {
   "cell_type": "code",
   "execution_count": 21,
   "id": "f22dac4e",
   "metadata": {},
   "outputs": [
    {
     "data": {
      "text/html": [
       "<div>\n",
       "<style scoped>\n",
       "    .dataframe tbody tr th:only-of-type {\n",
       "        vertical-align: middle;\n",
       "    }\n",
       "\n",
       "    .dataframe tbody tr th {\n",
       "        vertical-align: top;\n",
       "    }\n",
       "\n",
       "    .dataframe thead th {\n",
       "        text-align: right;\n",
       "    }\n",
       "</style>\n",
       "<table border=\"1\" class=\"dataframe\">\n",
       "  <thead>\n",
       "    <tr style=\"text-align: right;\">\n",
       "      <th></th>\n",
       "      <th>Disease</th>\n",
       "      <th>Fever</th>\n",
       "      <th>Cough</th>\n",
       "      <th>Fatigue</th>\n",
       "      <th>Difficulty Breathing</th>\n",
       "      <th>Age</th>\n",
       "      <th>Gender</th>\n",
       "      <th>Blood Pressure</th>\n",
       "      <th>Cholesterol Level</th>\n",
       "      <th>Outcome Variable</th>\n",
       "    </tr>\n",
       "  </thead>\n",
       "  <tbody>\n",
       "    <tr>\n",
       "      <th>344</th>\n",
       "      <td>Stroke</td>\n",
       "      <td>Yes</td>\n",
       "      <td>No</td>\n",
       "      <td>Yes</td>\n",
       "      <td>No</td>\n",
       "      <td>80</td>\n",
       "      <td>Female</td>\n",
       "      <td>High</td>\n",
       "      <td>High</td>\n",
       "      <td>Positive</td>\n",
       "    </tr>\n",
       "    <tr>\n",
       "      <th>345</th>\n",
       "      <td>Stroke</td>\n",
       "      <td>Yes</td>\n",
       "      <td>No</td>\n",
       "      <td>Yes</td>\n",
       "      <td>No</td>\n",
       "      <td>85</td>\n",
       "      <td>Male</td>\n",
       "      <td>High</td>\n",
       "      <td>High</td>\n",
       "      <td>Positive</td>\n",
       "    </tr>\n",
       "    <tr>\n",
       "      <th>346</th>\n",
       "      <td>Stroke</td>\n",
       "      <td>Yes</td>\n",
       "      <td>No</td>\n",
       "      <td>Yes</td>\n",
       "      <td>No</td>\n",
       "      <td>85</td>\n",
       "      <td>Male</td>\n",
       "      <td>High</td>\n",
       "      <td>High</td>\n",
       "      <td>Positive</td>\n",
       "    </tr>\n",
       "    <tr>\n",
       "      <th>347</th>\n",
       "      <td>Stroke</td>\n",
       "      <td>Yes</td>\n",
       "      <td>No</td>\n",
       "      <td>Yes</td>\n",
       "      <td>No</td>\n",
       "      <td>90</td>\n",
       "      <td>Female</td>\n",
       "      <td>High</td>\n",
       "      <td>High</td>\n",
       "      <td>Positive</td>\n",
       "    </tr>\n",
       "    <tr>\n",
       "      <th>348</th>\n",
       "      <td>Stroke</td>\n",
       "      <td>Yes</td>\n",
       "      <td>No</td>\n",
       "      <td>Yes</td>\n",
       "      <td>No</td>\n",
       "      <td>90</td>\n",
       "      <td>Female</td>\n",
       "      <td>High</td>\n",
       "      <td>High</td>\n",
       "      <td>Positive</td>\n",
       "    </tr>\n",
       "  </tbody>\n",
       "</table>\n",
       "</div>"
      ],
      "text/plain": [
       "    Disease Fever Cough Fatigue Difficulty Breathing  Age  Gender  \\\n",
       "344  Stroke   Yes    No     Yes                   No   80  Female   \n",
       "345  Stroke   Yes    No     Yes                   No   85    Male   \n",
       "346  Stroke   Yes    No     Yes                   No   85    Male   \n",
       "347  Stroke   Yes    No     Yes                   No   90  Female   \n",
       "348  Stroke   Yes    No     Yes                   No   90  Female   \n",
       "\n",
       "    Blood Pressure Cholesterol Level Outcome Variable  \n",
       "344           High              High         Positive  \n",
       "345           High              High         Positive  \n",
       "346           High              High         Positive  \n",
       "347           High              High         Positive  \n",
       "348           High              High         Positive  "
      ]
     },
     "execution_count": 21,
     "metadata": {},
     "output_type": "execute_result"
    }
   ],
   "source": [
    "# list of last five rows\n",
    "data.tail()"
   ]
  },
  {
   "cell_type": "code",
   "execution_count": 22,
   "id": "ae063680",
   "metadata": {},
   "outputs": [
    {
     "data": {
      "text/plain": [
       "(349, 10)"
      ]
     },
     "execution_count": 22,
     "metadata": {},
     "output_type": "execute_result"
    }
   ],
   "source": [
    "#Displays the dimensions of the dataset as a tuple\n",
    "data.shape"
   ]
  },
  {
   "cell_type": "code",
   "execution_count": 23,
   "id": "36d40a4a",
   "metadata": {},
   "outputs": [
    {
     "data": {
      "text/plain": [
       "RangeIndex(start=0, stop=349, step=1)"
      ]
     },
     "execution_count": 23,
     "metadata": {},
     "output_type": "execute_result"
    }
   ],
   "source": [
    "#accessing the index of a Dataframe\n",
    "data.index"
   ]
  },
  {
   "cell_type": "code",
   "execution_count": 24,
   "id": "5038010e",
   "metadata": {},
   "outputs": [
    {
     "name": "stdout",
     "output_type": "stream",
     "text": [
      "<class 'pandas.core.frame.DataFrame'>\n",
      "RangeIndex: 349 entries, 0 to 348\n",
      "Data columns (total 10 columns):\n",
      " #   Column                Non-Null Count  Dtype \n",
      "---  ------                --------------  ----- \n",
      " 0   Disease               349 non-null    object\n",
      " 1   Fever                 349 non-null    object\n",
      " 2   Cough                 349 non-null    object\n",
      " 3   Fatigue               349 non-null    object\n",
      " 4   Difficulty Breathing  349 non-null    object\n",
      " 5   Age                   349 non-null    int64 \n",
      " 6   Gender                349 non-null    object\n",
      " 7   Blood Pressure        349 non-null    object\n",
      " 8   Cholesterol Level     349 non-null    object\n",
      " 9   Outcome Variable      349 non-null    object\n",
      "dtypes: int64(1), object(9)\n",
      "memory usage: 27.4+ KB\n"
     ]
    }
   ],
   "source": [
    "# It is also a good practice to know the columns and their corresponding data types\n",
    "# along with finding whether they contain null values or not.\n",
    "data.info()"
   ]
  },
  {
   "cell_type": "code",
   "execution_count": 25,
   "id": "ead8bfbf",
   "metadata": {},
   "outputs": [
    {
     "data": {
      "text/html": [
       "<div>\n",
       "<style scoped>\n",
       "    .dataframe tbody tr th:only-of-type {\n",
       "        vertical-align: middle;\n",
       "    }\n",
       "\n",
       "    .dataframe tbody tr th {\n",
       "        vertical-align: top;\n",
       "    }\n",
       "\n",
       "    .dataframe thead th {\n",
       "        text-align: right;\n",
       "    }\n",
       "</style>\n",
       "<table border=\"1\" class=\"dataframe\">\n",
       "  <thead>\n",
       "    <tr style=\"text-align: right;\">\n",
       "      <th></th>\n",
       "      <th>Age</th>\n",
       "    </tr>\n",
       "  </thead>\n",
       "  <tbody>\n",
       "    <tr>\n",
       "      <th>count</th>\n",
       "      <td>349.000000</td>\n",
       "    </tr>\n",
       "    <tr>\n",
       "      <th>mean</th>\n",
       "      <td>46.323782</td>\n",
       "    </tr>\n",
       "    <tr>\n",
       "      <th>std</th>\n",
       "      <td>13.085090</td>\n",
       "    </tr>\n",
       "    <tr>\n",
       "      <th>min</th>\n",
       "      <td>19.000000</td>\n",
       "    </tr>\n",
       "    <tr>\n",
       "      <th>25%</th>\n",
       "      <td>35.000000</td>\n",
       "    </tr>\n",
       "    <tr>\n",
       "      <th>50%</th>\n",
       "      <td>45.000000</td>\n",
       "    </tr>\n",
       "    <tr>\n",
       "      <th>75%</th>\n",
       "      <td>55.000000</td>\n",
       "    </tr>\n",
       "    <tr>\n",
       "      <th>max</th>\n",
       "      <td>90.000000</td>\n",
       "    </tr>\n",
       "  </tbody>\n",
       "</table>\n",
       "</div>"
      ],
      "text/plain": [
       "              Age\n",
       "count  349.000000\n",
       "mean    46.323782\n",
       "std     13.085090\n",
       "min     19.000000\n",
       "25%     35.000000\n",
       "50%     45.000000\n",
       "75%     55.000000\n",
       "max     90.000000"
      ]
     },
     "execution_count": 25,
     "metadata": {},
     "output_type": "execute_result"
    }
   ],
   "source": [
    "# Generating descriptive statistics of the numerical columns in a dataset\n",
    "data.describe()"
   ]
  },
  {
   "cell_type": "code",
   "execution_count": 26,
   "id": "a15861d3",
   "metadata": {},
   "outputs": [
    {
     "data": {
      "text/plain": [
       "Disease                 object\n",
       "Fever                   object\n",
       "Cough                   object\n",
       "Fatigue                 object\n",
       "Difficulty Breathing    object\n",
       "Age                      int64\n",
       "Gender                  object\n",
       "Blood Pressure          object\n",
       "Cholesterol Level       object\n",
       "Outcome Variable        object\n",
       "dtype: object"
      ]
     },
     "execution_count": 26,
     "metadata": {},
     "output_type": "execute_result"
    }
   ],
   "source": [
    "# Displays the data types of each column\n",
    "data.dtypes"
   ]
  },
  {
   "cell_type": "markdown",
   "id": "b27722f5",
   "metadata": {},
   "source": [
    "# Step 4: Data Cleaning (Filteration / Manipulation)"
   ]
  },
  {
   "cell_type": "code",
   "execution_count": 27,
   "id": "f918bbfd",
   "metadata": {},
   "outputs": [
    {
     "data": {
      "text/plain": [
       "Disease                 349\n",
       "Fever                   349\n",
       "Cough                   349\n",
       "Fatigue                 349\n",
       "Difficulty Breathing    349\n",
       "Age                     349\n",
       "Gender                  349\n",
       "Blood Pressure          349\n",
       "Cholesterol Level       349\n",
       "Outcome Variable        349\n",
       "dtype: int64"
      ]
     },
     "execution_count": 27,
     "metadata": {},
     "output_type": "execute_result"
    }
   ],
   "source": [
    "# Shows the count of non-null values in the particular column\n",
    "data.count()"
   ]
  },
  {
   "cell_type": "code",
   "execution_count": 28,
   "id": "cdd45dea",
   "metadata": {},
   "outputs": [
    {
     "data": {
      "text/plain": [
       "Disease                  Fever  Cough  Fatigue  Difficulty Breathing  Age  Gender  Blood Pressure  Cholesterol Level  Outcome Variable\n",
       "Zika Virus               No     Yes    Yes      No                    45   Female  High            High               Negative            2\n",
       "Asthma                   Yes    Yes    No       Yes                   45   Male    Normal          Normal             Positive            2\n",
       "Tetanus                  No     No     Yes      No                    45   Male    Normal          High               Positive            2\n",
       "Coronary Artery Disease  Yes    Yes    No       No                    60   Male    High            High               Negative            2\n",
       "Hypothyroidism           Yes    Yes    Yes      No                    42   Female  High            High               Positive            2\n",
       "                                                                                                                                         ..\n",
       "Hemophilia               No     No     Yes      No                    60   Female  Normal          Normal             Positive            1\n",
       "Hemorrhoids              No     No     No       No                    55   Female  High            High               Positive            1\n",
       "Hepatitis                Yes    Yes    Yes      Yes                   30   Male    High            Normal             Negative            1\n",
       "Hyperglycemia            No     No     Yes      No                    45   Male    Normal          Normal             Negative            1\n",
       "Influenza                Yes    Yes    Yes      Yes                   56   Male    High            High               Positive            1\n",
       "Length: 300, dtype: int64"
      ]
     },
     "execution_count": 28,
     "metadata": {},
     "output_type": "execute_result"
    }
   ],
   "source": [
    "# Count the frequency of unique values in each column of the dataset\n",
    "data.value_counts()"
   ]
  },
  {
   "cell_type": "code",
   "execution_count": 29,
   "id": "81b1919a",
   "metadata": {},
   "outputs": [
    {
     "data": {
      "text/plain": [
       "Disease                 116\n",
       "Fever                     2\n",
       "Cough                     2\n",
       "Fatigue                   2\n",
       "Difficulty Breathing      2\n",
       "Age                      26\n",
       "Gender                    2\n",
       "Blood Pressure            3\n",
       "Cholesterol Level         3\n",
       "Outcome Variable          2\n",
       "dtype: int64"
      ]
     },
     "execution_count": 29,
     "metadata": {},
     "output_type": "execute_result"
    }
   ],
   "source": [
    "# We can also see the number of unique users and items in the dataset.\n",
    "data.nunique()"
   ]
  },
  {
   "cell_type": "code",
   "execution_count": 30,
   "id": "181dbdf2",
   "metadata": {},
   "outputs": [
    {
     "data": {
      "text/plain": [
       "Disease                 0\n",
       "Fever                   0\n",
       "Cough                   0\n",
       "Fatigue                 0\n",
       "Difficulty Breathing    0\n",
       "Age                     0\n",
       "Gender                  0\n",
       "Blood Pressure          0\n",
       "Cholesterol Level       0\n",
       "Outcome Variable        0\n",
       "dtype: int64"
      ]
     },
     "execution_count": 30,
     "metadata": {},
     "output_type": "execute_result"
    }
   ],
   "source": [
    "# check for missing values\n",
    "data.isnull().sum()"
   ]
  },
  {
   "cell_type": "code",
   "execution_count": 31,
   "id": "e7195079",
   "metadata": {},
   "outputs": [
    {
     "name": "stdout",
     "output_type": "stream",
     "text": [
      "26\n"
     ]
    }
   ],
   "source": [
    "# Printing Unique values\n",
    "print(data['Age'].nunique())"
   ]
  },
  {
   "cell_type": "code",
   "execution_count": 32,
   "id": "9c9b1976",
   "metadata": {},
   "outputs": [
    {
     "name": "stdout",
     "output_type": "stream",
     "text": [
      "[19 25 28 29 30 31 32 35 38 39 40 42 43 45 48 50 52 55 56 57 60 65 70 80\n",
      " 85 90]\n"
     ]
    }
   ],
   "source": [
    "# Printing Unique values\n",
    "print(data['Age'].unique())"
   ]
  },
  {
   "cell_type": "code",
   "execution_count": 33,
   "id": "a2b71f1a",
   "metadata": {},
   "outputs": [
    {
     "data": {
      "text/html": [
       "<div>\n",
       "<style scoped>\n",
       "    .dataframe tbody tr th:only-of-type {\n",
       "        vertical-align: middle;\n",
       "    }\n",
       "\n",
       "    .dataframe tbody tr th {\n",
       "        vertical-align: top;\n",
       "    }\n",
       "\n",
       "    .dataframe thead th {\n",
       "        text-align: right;\n",
       "    }\n",
       "</style>\n",
       "<table border=\"1\" class=\"dataframe\">\n",
       "  <thead>\n",
       "    <tr style=\"text-align: right;\">\n",
       "      <th></th>\n",
       "      <th>Disease</th>\n",
       "      <th>Fever</th>\n",
       "      <th>Cough</th>\n",
       "      <th>Fatigue</th>\n",
       "      <th>Difficulty Breathing</th>\n",
       "      <th>Age</th>\n",
       "      <th>Gender</th>\n",
       "      <th>Blood Pressure</th>\n",
       "      <th>Cholesterol Level</th>\n",
       "      <th>Outcome Variable</th>\n",
       "    </tr>\n",
       "  </thead>\n",
       "  <tbody>\n",
       "    <tr>\n",
       "      <th>0</th>\n",
       "      <td>Influenza</td>\n",
       "      <td>Yes</td>\n",
       "      <td>No</td>\n",
       "      <td>Yes</td>\n",
       "      <td>Yes</td>\n",
       "      <td>19</td>\n",
       "      <td>Female</td>\n",
       "      <td>Low</td>\n",
       "      <td>Normal</td>\n",
       "      <td>Positive</td>\n",
       "    </tr>\n",
       "    <tr>\n",
       "      <th>1</th>\n",
       "      <td>Common Cold</td>\n",
       "      <td>No</td>\n",
       "      <td>Yes</td>\n",
       "      <td>Yes</td>\n",
       "      <td>No</td>\n",
       "      <td>25</td>\n",
       "      <td>Female</td>\n",
       "      <td>Normal</td>\n",
       "      <td>Normal</td>\n",
       "      <td>Negative</td>\n",
       "    </tr>\n",
       "    <tr>\n",
       "      <th>2</th>\n",
       "      <td>Eczema</td>\n",
       "      <td>No</td>\n",
       "      <td>Yes</td>\n",
       "      <td>Yes</td>\n",
       "      <td>No</td>\n",
       "      <td>25</td>\n",
       "      <td>Female</td>\n",
       "      <td>Normal</td>\n",
       "      <td>Normal</td>\n",
       "      <td>Negative</td>\n",
       "    </tr>\n",
       "    <tr>\n",
       "      <th>3</th>\n",
       "      <td>Asthma</td>\n",
       "      <td>Yes</td>\n",
       "      <td>Yes</td>\n",
       "      <td>No</td>\n",
       "      <td>Yes</td>\n",
       "      <td>25</td>\n",
       "      <td>Male</td>\n",
       "      <td>Normal</td>\n",
       "      <td>Normal</td>\n",
       "      <td>Positive</td>\n",
       "    </tr>\n",
       "    <tr>\n",
       "      <th>4</th>\n",
       "      <td>Asthma</td>\n",
       "      <td>Yes</td>\n",
       "      <td>Yes</td>\n",
       "      <td>No</td>\n",
       "      <td>Yes</td>\n",
       "      <td>25</td>\n",
       "      <td>Male</td>\n",
       "      <td>Normal</td>\n",
       "      <td>Normal</td>\n",
       "      <td>Positive</td>\n",
       "    </tr>\n",
       "    <tr>\n",
       "      <th>...</th>\n",
       "      <td>...</td>\n",
       "      <td>...</td>\n",
       "      <td>...</td>\n",
       "      <td>...</td>\n",
       "      <td>...</td>\n",
       "      <td>...</td>\n",
       "      <td>...</td>\n",
       "      <td>...</td>\n",
       "      <td>...</td>\n",
       "      <td>...</td>\n",
       "    </tr>\n",
       "    <tr>\n",
       "      <th>344</th>\n",
       "      <td>Stroke</td>\n",
       "      <td>Yes</td>\n",
       "      <td>No</td>\n",
       "      <td>Yes</td>\n",
       "      <td>No</td>\n",
       "      <td>80</td>\n",
       "      <td>Female</td>\n",
       "      <td>High</td>\n",
       "      <td>High</td>\n",
       "      <td>Positive</td>\n",
       "    </tr>\n",
       "    <tr>\n",
       "      <th>345</th>\n",
       "      <td>Stroke</td>\n",
       "      <td>Yes</td>\n",
       "      <td>No</td>\n",
       "      <td>Yes</td>\n",
       "      <td>No</td>\n",
       "      <td>85</td>\n",
       "      <td>Male</td>\n",
       "      <td>High</td>\n",
       "      <td>High</td>\n",
       "      <td>Positive</td>\n",
       "    </tr>\n",
       "    <tr>\n",
       "      <th>346</th>\n",
       "      <td>Stroke</td>\n",
       "      <td>Yes</td>\n",
       "      <td>No</td>\n",
       "      <td>Yes</td>\n",
       "      <td>No</td>\n",
       "      <td>85</td>\n",
       "      <td>Male</td>\n",
       "      <td>High</td>\n",
       "      <td>High</td>\n",
       "      <td>Positive</td>\n",
       "    </tr>\n",
       "    <tr>\n",
       "      <th>347</th>\n",
       "      <td>Stroke</td>\n",
       "      <td>Yes</td>\n",
       "      <td>No</td>\n",
       "      <td>Yes</td>\n",
       "      <td>No</td>\n",
       "      <td>90</td>\n",
       "      <td>Female</td>\n",
       "      <td>High</td>\n",
       "      <td>High</td>\n",
       "      <td>Positive</td>\n",
       "    </tr>\n",
       "    <tr>\n",
       "      <th>348</th>\n",
       "      <td>Stroke</td>\n",
       "      <td>Yes</td>\n",
       "      <td>No</td>\n",
       "      <td>Yes</td>\n",
       "      <td>No</td>\n",
       "      <td>90</td>\n",
       "      <td>Female</td>\n",
       "      <td>High</td>\n",
       "      <td>High</td>\n",
       "      <td>Positive</td>\n",
       "    </tr>\n",
       "  </tbody>\n",
       "</table>\n",
       "<p>349 rows × 10 columns</p>\n",
       "</div>"
      ],
      "text/plain": [
       "         Disease Fever Cough Fatigue Difficulty Breathing  Age  Gender  \\\n",
       "0      Influenza   Yes    No     Yes                  Yes   19  Female   \n",
       "1    Common Cold    No   Yes     Yes                   No   25  Female   \n",
       "2         Eczema    No   Yes     Yes                   No   25  Female   \n",
       "3         Asthma   Yes   Yes      No                  Yes   25    Male   \n",
       "4         Asthma   Yes   Yes      No                  Yes   25    Male   \n",
       "..           ...   ...   ...     ...                  ...  ...     ...   \n",
       "344       Stroke   Yes    No     Yes                   No   80  Female   \n",
       "345       Stroke   Yes    No     Yes                   No   85    Male   \n",
       "346       Stroke   Yes    No     Yes                   No   85    Male   \n",
       "347       Stroke   Yes    No     Yes                   No   90  Female   \n",
       "348       Stroke   Yes    No     Yes                   No   90  Female   \n",
       "\n",
       "    Blood Pressure Cholesterol Level Outcome Variable  \n",
       "0              Low            Normal         Positive  \n",
       "1           Normal            Normal         Negative  \n",
       "2           Normal            Normal         Negative  \n",
       "3           Normal            Normal         Positive  \n",
       "4           Normal            Normal         Positive  \n",
       "..             ...               ...              ...  \n",
       "344           High              High         Positive  \n",
       "345           High              High         Positive  \n",
       "346           High              High         Positive  \n",
       "347           High              High         Positive  \n",
       "348           High              High         Positive  \n",
       "\n",
       "[349 rows x 10 columns]"
      ]
     },
     "execution_count": 33,
     "metadata": {},
     "output_type": "execute_result"
    }
   ],
   "source": [
    "# Drop rows with any missing values (NaN) from the dataset\n",
    "data.dropna()"
   ]
  },
  {
   "cell_type": "code",
   "execution_count": 34,
   "id": "3978907d",
   "metadata": {},
   "outputs": [],
   "source": [
    "# Drop rows with any missing values (NaN) from the dataset and update the dataset in place\n",
    "\n",
    "data.dropna(inplace=True)"
   ]
  },
  {
   "cell_type": "code",
   "execution_count": 29,
   "id": "1c64d8e0",
   "metadata": {},
   "outputs": [
    {
     "data": {
      "text/plain": [
       "(349, 11)"
      ]
     },
     "execution_count": 29,
     "metadata": {},
     "output_type": "execute_result"
    }
   ],
   "source": [
    "# Check the dimensions of the dataset after dropping rows with missing values\n",
    "data.shape"
   ]
  },
  {
   "cell_type": "code",
   "execution_count": 37,
   "id": "0fd0c2a3",
   "metadata": {},
   "outputs": [
    {
     "data": {
      "text/plain": [
       "Disease                 0\n",
       "Fever                   0\n",
       "Cough                   0\n",
       "Fatigue                 0\n",
       "Difficulty Breathing    0\n",
       "Age                     0\n",
       "Gender                  0\n",
       "Blood Pressure          0\n",
       "Cholesterol Level       0\n",
       "Outcome Variable        0\n",
       "dtype: int64"
      ]
     },
     "execution_count": 37,
     "metadata": {},
     "output_type": "execute_result"
    }
   ],
   "source": [
    "# Now check for missing values\n",
    "data.isnull().sum()"
   ]
  },
  {
   "cell_type": "code",
   "execution_count": 36,
   "id": "5df9bf7f",
   "metadata": {},
   "outputs": [
    {
     "name": "stdout",
     "output_type": "stream",
     "text": [
      "Before Removing Number of duplicate rows: 49\n",
      "                                          Disease Fever Cough Fatigue  \\\n",
      "4                                          Asthma   Yes   Yes      No   \n",
      "7                                       Influenza   Yes   Yes     Yes   \n",
      "9                                 Hyperthyroidism    No   Yes      No   \n",
      "23                                   Dengue Fever   Yes    No     Yes   \n",
      "35                                         Asthma   Yes   Yes      No   \n",
      "40                                     Bronchitis   Yes   Yes     Yes   \n",
      "59                                         Asthma    No   Yes     Yes   \n",
      "69                                      Pneumonia   Yes   Yes     Yes   \n",
      "73                                        Rubella   Yes    No     Yes   \n",
      "76                                         Asthma   Yes   Yes      No   \n",
      "82                                Hyperthyroidism   Yes   Yes     Yes   \n",
      "87                                        Malaria   Yes    No      No   \n",
      "120                                        Rabies   Yes   Yes      No   \n",
      "123                                        Asthma   Yes   Yes      No   \n",
      "126                                        Asthma   Yes    No     Yes   \n",
      "128                                    Chickenpox    No   Yes      No   \n",
      "142                                  Tuberculosis   Yes   Yes     Yes   \n",
      "157                                Hypothyroidism   Yes   Yes     Yes   \n",
      "164                                     Hepatitis   Yes    No     Yes   \n",
      "175                               Turner Syndrome    No    No     Yes   \n",
      "178                                    Zika Virus    No   Yes     Yes   \n",
      "182                                        Asthma   Yes   Yes      No   \n",
      "193                            Multiple Sclerosis   Yes    No      No   \n",
      "201                                       Tetanus    No    No     Yes   \n",
      "204                                Hypothyroidism    No    No     Yes   \n",
      "209                                       Cholera   Yes    No     Yes   \n",
      "228                                   Ebola Virus   Yes   Yes     Yes   \n",
      "234                                  Lyme Disease   Yes    No      No   \n",
      "241                            Multiple Sclerosis    No   Yes     Yes   \n",
      "249                                      HIV/AIDS   Yes    No      No   \n",
      "256                           Parkinson's Disease    No    No     Yes   \n",
      "259                       Coronary Artery Disease    No    No     Yes   \n",
      "267                                  Osteoporosis   Yes    No     Yes   \n",
      "271                                 Typhoid Fever    No   Yes      No   \n",
      "276                       Coronary Artery Disease   Yes   Yes      No   \n",
      "279                                       Measles   Yes   Yes      No   \n",
      "284                                  Osteoporosis    No   Yes      No   \n",
      "290                                   Hepatitis B    No   Yes     Yes   \n",
      "299                           Parkinson's Disease   Yes   Yes      No   \n",
      "308                                        Stroke   Yes    No     Yes   \n",
      "312                           Alzheimer's Disease    No   Yes      No   \n",
      "316  Chronic Obstructive Pulmonary Disease (COPD)   Yes    No     Yes   \n",
      "324                                         Mumps    No    No     Yes   \n",
      "328                           Alzheimer's Disease   Yes    No     Yes   \n",
      "331  Chronic Obstructive Pulmonary Disease (COPD)    No   Yes     Yes   \n",
      "339                                        Stroke    No   Yes      No   \n",
      "344                                        Stroke   Yes    No     Yes   \n",
      "346                                        Stroke   Yes    No     Yes   \n",
      "348                                        Stroke   Yes    No     Yes   \n",
      "\n",
      "    Difficulty Breathing  Age  Gender Blood Pressure Cholesterol Level  \\\n",
      "4                    Yes   25    Male         Normal            Normal   \n",
      "7                    Yes   25  Female         Normal            Normal   \n",
      "9                     No   28  Female         Normal            Normal   \n",
      "23                    No   30  Female         Normal            Normal   \n",
      "35                   Yes   30  Female         Normal            Normal   \n",
      "40                   Yes   30    Male           High              High   \n",
      "59                   Yes   35  Female           High            Normal   \n",
      "69                   Yes   35  Female         Normal            Normal   \n",
      "73                    No   35  Female           High            Normal   \n",
      "76                   Yes   35    Male         Normal            Normal   \n",
      "82                    No   35    Male           High              High   \n",
      "87                    No   35    Male           High              High   \n",
      "120                   No   40  Female           High            Normal   \n",
      "123                  Yes   40  Female         Normal            Normal   \n",
      "126                  Yes   40    Male         Normal              High   \n",
      "128                   No   40    Male         Normal              High   \n",
      "142                  Yes   40    Male           High              High   \n",
      "157                   No   42  Female           High              High   \n",
      "164                   No   45  Female           High              High   \n",
      "175                   No   45    Male           High              High   \n",
      "178                   No   45  Female           High              High   \n",
      "182                  Yes   45    Male         Normal            Normal   \n",
      "193                   No   45  Female           High              High   \n",
      "201                   No   45    Male         Normal              High   \n",
      "204                   No   48    Male         Normal              High   \n",
      "209                  Yes   50  Female           High              High   \n",
      "228                  Yes   50    Male         Normal            Normal   \n",
      "234                   No   50    Male         Normal              High   \n",
      "241                   No   52    Male         Normal            Normal   \n",
      "249                   No   55  Female           High              High   \n",
      "256                   No   55  Female         Normal               Low   \n",
      "259                   No   55  Female         Normal            Normal   \n",
      "267                   No   55  Female         Normal            Normal   \n",
      "271                   No   55    Male         Normal               Low   \n",
      "276                   No   60    Male           High              High   \n",
      "279                   No   60  Female           High            Normal   \n",
      "284                   No   60    Male           High              High   \n",
      "290                   No   60    Male         Normal               Low   \n",
      "299                   No   60    Male           High            Normal   \n",
      "308                   No   65  Female           High               Low   \n",
      "312                   No   65    Male         Normal              High   \n",
      "316                  Yes   65  Female           High              High   \n",
      "324                   No   65    Male         Normal              High   \n",
      "328                   No   70  Female           High            Normal   \n",
      "331                  Yes   70    Male         Normal              High   \n",
      "339                   No   70    Male         Normal              High   \n",
      "344                   No   80  Female           High              High   \n",
      "346                   No   85    Male           High              High   \n",
      "348                   No   90  Female           High              High   \n",
      "\n",
      "    Outcome Variable  \n",
      "4           Positive  \n",
      "7           Positive  \n",
      "9           Negative  \n",
      "23          Negative  \n",
      "35          Positive  \n",
      "40          Positive  \n",
      "59          Negative  \n",
      "69          Negative  \n",
      "73          Negative  \n",
      "76          Positive  \n",
      "82          Positive  \n",
      "87          Positive  \n",
      "120         Negative  \n",
      "123         Positive  \n",
      "126         Positive  \n",
      "128         Positive  \n",
      "142         Positive  \n",
      "157         Positive  \n",
      "164         Negative  \n",
      "175         Negative  \n",
      "178         Negative  \n",
      "182         Positive  \n",
      "193         Positive  \n",
      "201         Positive  \n",
      "204         Negative  \n",
      "209         Negative  \n",
      "228         Positive  \n",
      "234         Positive  \n",
      "241         Negative  \n",
      "249         Negative  \n",
      "256         Negative  \n",
      "259         Positive  \n",
      "267         Positive  \n",
      "271         Positive  \n",
      "276         Negative  \n",
      "279         Negative  \n",
      "284         Negative  \n",
      "290         Positive  \n",
      "299         Positive  \n",
      "308         Negative  \n",
      "312         Positive  \n",
      "316         Positive  \n",
      "324         Positive  \n",
      "328         Negative  \n",
      "331         Negative  \n",
      "339         Positive  \n",
      "344         Positive  \n",
      "346         Positive  \n",
      "348         Positive  \n"
     ]
    }
   ],
   "source": [
    "#Find the duplicate values\n",
    "duplicate_rows = data.duplicated()\n",
    "#Printing the no of duplicate rows\n",
    "print(\"Before Removing Number of duplicate rows:\", duplicate_rows.sum())\n",
    "print(data[duplicate_rows])"
   ]
  },
  {
   "cell_type": "code",
   "execution_count": 38,
   "id": "0928e568",
   "metadata": {},
   "outputs": [
    {
     "name": "stdout",
     "output_type": "stream",
     "text": [
      "     count       mean       std   min   25%   50%   75%   max\n",
      "Age  349.0  46.323782  13.08509  19.0  35.0  45.0  55.0  90.0\n"
     ]
    }
   ],
   "source": [
    "#Display the statistics for each column as rows.\n",
    "#This table provides descriptive statistics such as count, mean, standard deviation, minimum, maximum, and quartile values for each numerical column in the DataFrame.\n",
    "print(data.describe().T)"
   ]
  },
  {
   "cell_type": "code",
   "execution_count": 39,
   "id": "29407588",
   "metadata": {},
   "outputs": [
    {
     "name": "stdout",
     "output_type": "stream",
     "text": [
      "                     count unique       top freq\n",
      "Disease                349    116    Asthma   23\n",
      "Fever                  349      2       Yes  175\n",
      "Cough                  349      2        No  182\n",
      "Fatigue                349      2       Yes  242\n",
      "Difficulty Breathing   349      2        No  261\n",
      "Gender                 349      2    Female  176\n",
      "Blood Pressure         349      3      High  167\n",
      "Cholesterol Level      349      3      High  166\n",
      "Outcome Variable       349      2  Positive  186\n"
     ]
    }
   ],
   "source": [
    "#This table provides descriptive statistics for categorical columns in the DataFrame. \n",
    "#It includes count (number of non-null values), unique (number of unique values), top (most frequently occurring value), and freq (frequency of the top value).\n",
    "print(data.describe(include=object).T)"
   ]
  },
  {
   "cell_type": "code",
   "execution_count": 40,
   "id": "769c7127",
   "metadata": {},
   "outputs": [
    {
     "name": "stdout",
     "output_type": "stream",
     "text": [
      "    Disease Fever Cough Fatigue Difficulty Breathing  Age  Gender  \\\n",
      "20   Stroke   Yes   Yes     Yes                  Yes   29  Female   \n",
      "105  Stroke   Yes   Yes      No                   No   38  Female   \n",
      "153  Stroke   Yes    No     Yes                   No   42    Male   \n",
      "173  Stroke    No    No     Yes                   No   45    Male   \n",
      "\n",
      "    Blood Pressure Cholesterol Level Outcome Variable  \n",
      "20          Normal            Normal         Positive  \n",
      "105           High            Normal         Negative  \n",
      "153         Normal               Low         Negative  \n",
      "173         Normal            Normal         Negative  \n"
     ]
    }
   ],
   "source": [
    "# filtering - Only show category of dresses \n",
    "condition = data['Disease'] == 'Stroke'\n",
    "# display top 4 rows\n",
    "print(data[condition].head(4))"
   ]
  },
  {
   "cell_type": "code",
   "execution_count": 41,
   "id": "3ccb2cb3",
   "metadata": {},
   "outputs": [
    {
     "data": {
      "text/html": [
       "<div>\n",
       "<style scoped>\n",
       "    .dataframe tbody tr th:only-of-type {\n",
       "        vertical-align: middle;\n",
       "    }\n",
       "\n",
       "    .dataframe tbody tr th {\n",
       "        vertical-align: top;\n",
       "    }\n",
       "\n",
       "    .dataframe thead th {\n",
       "        text-align: right;\n",
       "    }\n",
       "</style>\n",
       "<table border=\"1\" class=\"dataframe\">\n",
       "  <thead>\n",
       "    <tr style=\"text-align: right;\">\n",
       "      <th></th>\n",
       "      <th></th>\n",
       "      <th>Outcome Variable</th>\n",
       "    </tr>\n",
       "    <tr>\n",
       "      <th>Disease</th>\n",
       "      <th>Blood Pressure</th>\n",
       "      <th></th>\n",
       "    </tr>\n",
       "  </thead>\n",
       "  <tbody>\n",
       "    <tr>\n",
       "      <th>Acne</th>\n",
       "      <th>Normal</th>\n",
       "      <td>Negative</td>\n",
       "    </tr>\n",
       "    <tr>\n",
       "      <th rowspan=\"3\" valign=\"top\">Allergic Rhinitis</th>\n",
       "      <th>High</th>\n",
       "      <td>Positive</td>\n",
       "    </tr>\n",
       "    <tr>\n",
       "      <th>Low</th>\n",
       "      <td>Negative</td>\n",
       "    </tr>\n",
       "    <tr>\n",
       "      <th>Normal</th>\n",
       "      <td>Negative</td>\n",
       "    </tr>\n",
       "    <tr>\n",
       "      <th>Alzheimer's Disease</th>\n",
       "      <th>High</th>\n",
       "      <td>Positive</td>\n",
       "    </tr>\n",
       "    <tr>\n",
       "      <th>...</th>\n",
       "      <th>...</th>\n",
       "      <td>...</td>\n",
       "    </tr>\n",
       "    <tr>\n",
       "      <th>Urinary Tract Infection</th>\n",
       "      <th>Normal</th>\n",
       "      <td>Positive</td>\n",
       "    </tr>\n",
       "    <tr>\n",
       "      <th rowspan=\"2\" valign=\"top\">Urinary Tract Infection (UTI)</th>\n",
       "      <th>High</th>\n",
       "      <td>Negative</td>\n",
       "    </tr>\n",
       "    <tr>\n",
       "      <th>Normal</th>\n",
       "      <td>Positive</td>\n",
       "    </tr>\n",
       "    <tr>\n",
       "      <th>Williams Syndrome</th>\n",
       "      <th>Normal</th>\n",
       "      <td>Positive</td>\n",
       "    </tr>\n",
       "    <tr>\n",
       "      <th>Zika Virus</th>\n",
       "      <th>High</th>\n",
       "      <td>Negative</td>\n",
       "    </tr>\n",
       "  </tbody>\n",
       "</table>\n",
       "<p>169 rows × 1 columns</p>\n",
       "</div>"
      ],
      "text/plain": [
       "                                             Outcome Variable\n",
       "Disease                       Blood Pressure                 \n",
       "Acne                          Normal                 Negative\n",
       "Allergic Rhinitis             High                   Positive\n",
       "                              Low                    Negative\n",
       "                              Normal                 Negative\n",
       "Alzheimer's Disease           High                   Positive\n",
       "...                                                       ...\n",
       "Urinary Tract Infection       Normal                 Positive\n",
       "Urinary Tract Infection (UTI) High                   Negative\n",
       "                              Normal                 Positive\n",
       "Williams Syndrome             Normal                 Positive\n",
       "Zika Virus                    High                   Negative\n",
       "\n",
       "[169 rows x 1 columns]"
      ]
     },
     "execution_count": 41,
     "metadata": {},
     "output_type": "execute_result"
    }
   ],
   "source": [
    "#Grouping by multiple columns\n",
    "#Aggregates the given column in the given dataframe\n",
    "data.groupby(['Disease','Blood Pressure']).agg({'Outcome Variable':'max'})"
   ]
  },
  {
   "cell_type": "markdown",
   "id": "15ed709e",
   "metadata": {},
   "source": [
    "# Step 5: Data Sorting / Searching / Validation"
   ]
  },
  {
   "cell_type": "code",
   "execution_count": 42,
   "id": "42d2227b",
   "metadata": {},
   "outputs": [
    {
     "data": {
      "text/plain": [
       "0      19\n",
       "1      25\n",
       "2      25\n",
       "3      25\n",
       "4      25\n",
       "       ..\n",
       "344    80\n",
       "345    85\n",
       "346    85\n",
       "347    90\n",
       "348    90\n",
       "Name: Age, Length: 349, dtype: int64"
      ]
     },
     "execution_count": 42,
     "metadata": {},
     "output_type": "execute_result"
    }
   ],
   "source": [
    "#Display the 'age' column\n",
    "data['Age']"
   ]
  },
  {
   "cell_type": "code",
   "execution_count": 43,
   "id": "313732c7",
   "metadata": {},
   "outputs": [
    {
     "data": {
      "text/html": [
       "<div>\n",
       "<style scoped>\n",
       "    .dataframe tbody tr th:only-of-type {\n",
       "        vertical-align: middle;\n",
       "    }\n",
       "\n",
       "    .dataframe tbody tr th {\n",
       "        vertical-align: top;\n",
       "    }\n",
       "\n",
       "    .dataframe thead th {\n",
       "        text-align: right;\n",
       "    }\n",
       "</style>\n",
       "<table border=\"1\" class=\"dataframe\">\n",
       "  <thead>\n",
       "    <tr style=\"text-align: right;\">\n",
       "      <th></th>\n",
       "      <th>Disease</th>\n",
       "      <th>Fever</th>\n",
       "      <th>Cough</th>\n",
       "      <th>Fatigue</th>\n",
       "      <th>Difficulty Breathing</th>\n",
       "      <th>Age</th>\n",
       "      <th>Gender</th>\n",
       "      <th>Blood Pressure</th>\n",
       "      <th>Cholesterol Level</th>\n",
       "      <th>Outcome Variable</th>\n",
       "    </tr>\n",
       "  </thead>\n",
       "  <tbody>\n",
       "    <tr>\n",
       "      <th>0</th>\n",
       "      <td>Influenza</td>\n",
       "      <td>Yes</td>\n",
       "      <td>No</td>\n",
       "      <td>Yes</td>\n",
       "      <td>Yes</td>\n",
       "      <td>19</td>\n",
       "      <td>Female</td>\n",
       "      <td>Low</td>\n",
       "      <td>Normal</td>\n",
       "      <td>Positive</td>\n",
       "    </tr>\n",
       "    <tr>\n",
       "      <th>1</th>\n",
       "      <td>Common Cold</td>\n",
       "      <td>No</td>\n",
       "      <td>Yes</td>\n",
       "      <td>Yes</td>\n",
       "      <td>No</td>\n",
       "      <td>25</td>\n",
       "      <td>Female</td>\n",
       "      <td>Normal</td>\n",
       "      <td>Normal</td>\n",
       "      <td>Negative</td>\n",
       "    </tr>\n",
       "    <tr>\n",
       "      <th>2</th>\n",
       "      <td>Eczema</td>\n",
       "      <td>No</td>\n",
       "      <td>Yes</td>\n",
       "      <td>Yes</td>\n",
       "      <td>No</td>\n",
       "      <td>25</td>\n",
       "      <td>Female</td>\n",
       "      <td>Normal</td>\n",
       "      <td>Normal</td>\n",
       "      <td>Negative</td>\n",
       "    </tr>\n",
       "    <tr>\n",
       "      <th>3</th>\n",
       "      <td>Asthma</td>\n",
       "      <td>Yes</td>\n",
       "      <td>Yes</td>\n",
       "      <td>No</td>\n",
       "      <td>Yes</td>\n",
       "      <td>25</td>\n",
       "      <td>Male</td>\n",
       "      <td>Normal</td>\n",
       "      <td>Normal</td>\n",
       "      <td>Positive</td>\n",
       "    </tr>\n",
       "    <tr>\n",
       "      <th>4</th>\n",
       "      <td>Asthma</td>\n",
       "      <td>Yes</td>\n",
       "      <td>Yes</td>\n",
       "      <td>No</td>\n",
       "      <td>Yes</td>\n",
       "      <td>25</td>\n",
       "      <td>Male</td>\n",
       "      <td>Normal</td>\n",
       "      <td>Normal</td>\n",
       "      <td>Positive</td>\n",
       "    </tr>\n",
       "    <tr>\n",
       "      <th>...</th>\n",
       "      <td>...</td>\n",
       "      <td>...</td>\n",
       "      <td>...</td>\n",
       "      <td>...</td>\n",
       "      <td>...</td>\n",
       "      <td>...</td>\n",
       "      <td>...</td>\n",
       "      <td>...</td>\n",
       "      <td>...</td>\n",
       "      <td>...</td>\n",
       "    </tr>\n",
       "    <tr>\n",
       "      <th>344</th>\n",
       "      <td>Stroke</td>\n",
       "      <td>Yes</td>\n",
       "      <td>No</td>\n",
       "      <td>Yes</td>\n",
       "      <td>No</td>\n",
       "      <td>80</td>\n",
       "      <td>Female</td>\n",
       "      <td>High</td>\n",
       "      <td>High</td>\n",
       "      <td>Positive</td>\n",
       "    </tr>\n",
       "    <tr>\n",
       "      <th>345</th>\n",
       "      <td>Stroke</td>\n",
       "      <td>Yes</td>\n",
       "      <td>No</td>\n",
       "      <td>Yes</td>\n",
       "      <td>No</td>\n",
       "      <td>85</td>\n",
       "      <td>Male</td>\n",
       "      <td>High</td>\n",
       "      <td>High</td>\n",
       "      <td>Positive</td>\n",
       "    </tr>\n",
       "    <tr>\n",
       "      <th>346</th>\n",
       "      <td>Stroke</td>\n",
       "      <td>Yes</td>\n",
       "      <td>No</td>\n",
       "      <td>Yes</td>\n",
       "      <td>No</td>\n",
       "      <td>85</td>\n",
       "      <td>Male</td>\n",
       "      <td>High</td>\n",
       "      <td>High</td>\n",
       "      <td>Positive</td>\n",
       "    </tr>\n",
       "    <tr>\n",
       "      <th>347</th>\n",
       "      <td>Stroke</td>\n",
       "      <td>Yes</td>\n",
       "      <td>No</td>\n",
       "      <td>Yes</td>\n",
       "      <td>No</td>\n",
       "      <td>90</td>\n",
       "      <td>Female</td>\n",
       "      <td>High</td>\n",
       "      <td>High</td>\n",
       "      <td>Positive</td>\n",
       "    </tr>\n",
       "    <tr>\n",
       "      <th>348</th>\n",
       "      <td>Stroke</td>\n",
       "      <td>Yes</td>\n",
       "      <td>No</td>\n",
       "      <td>Yes</td>\n",
       "      <td>No</td>\n",
       "      <td>90</td>\n",
       "      <td>Female</td>\n",
       "      <td>High</td>\n",
       "      <td>High</td>\n",
       "      <td>Positive</td>\n",
       "    </tr>\n",
       "  </tbody>\n",
       "</table>\n",
       "<p>349 rows × 10 columns</p>\n",
       "</div>"
      ],
      "text/plain": [
       "         Disease Fever Cough Fatigue Difficulty Breathing  Age  Gender  \\\n",
       "0      Influenza   Yes    No     Yes                  Yes   19  Female   \n",
       "1    Common Cold    No   Yes     Yes                   No   25  Female   \n",
       "2         Eczema    No   Yes     Yes                   No   25  Female   \n",
       "3         Asthma   Yes   Yes      No                  Yes   25    Male   \n",
       "4         Asthma   Yes   Yes      No                  Yes   25    Male   \n",
       "..           ...   ...   ...     ...                  ...  ...     ...   \n",
       "344       Stroke   Yes    No     Yes                   No   80  Female   \n",
       "345       Stroke   Yes    No     Yes                   No   85    Male   \n",
       "346       Stroke   Yes    No     Yes                   No   85    Male   \n",
       "347       Stroke   Yes    No     Yes                   No   90  Female   \n",
       "348       Stroke   Yes    No     Yes                   No   90  Female   \n",
       "\n",
       "    Blood Pressure Cholesterol Level Outcome Variable  \n",
       "0              Low            Normal         Positive  \n",
       "1           Normal            Normal         Negative  \n",
       "2           Normal            Normal         Negative  \n",
       "3           Normal            Normal         Positive  \n",
       "4           Normal            Normal         Positive  \n",
       "..             ...               ...              ...  \n",
       "344           High              High         Positive  \n",
       "345           High              High         Positive  \n",
       "346           High              High         Positive  \n",
       "347           High              High         Positive  \n",
       "348           High              High         Positive  \n",
       "\n",
       "[349 rows x 10 columns]"
      ]
     },
     "execution_count": 43,
     "metadata": {},
     "output_type": "execute_result"
    }
   ],
   "source": [
    "# Sort the dataset by the 'km_driven' column in ascending order\n",
    "data.sort_values(by='Age',ascending=True)"
   ]
  },
  {
   "cell_type": "code",
   "execution_count": 44,
   "id": "0024e91c",
   "metadata": {},
   "outputs": [
    {
     "name": "stdout",
     "output_type": "stream",
     "text": [
      "                Disease Fever Cough Fatigue Difficulty Breathing  Age  Gender  \\\n",
      "239        Hypertension   Yes   Yes      No                   No   52    Male   \n",
      "240  Multiple Sclerosis    No   Yes     Yes                   No   52    Male   \n",
      "241  Multiple Sclerosis    No   Yes     Yes                   No   52    Male   \n",
      "242        Appendicitis   Yes    No     Yes                   No   55    Male   \n",
      "243          Bronchitis    No    No     Yes                  Yes   55    Male   \n",
      "..                  ...   ...   ...     ...                  ...  ...     ...   \n",
      "344              Stroke   Yes    No     Yes                   No   80  Female   \n",
      "345              Stroke   Yes    No     Yes                   No   85    Male   \n",
      "346              Stroke   Yes    No     Yes                   No   85    Male   \n",
      "347              Stroke   Yes    No     Yes                   No   90  Female   \n",
      "348              Stroke   Yes    No     Yes                   No   90  Female   \n",
      "\n",
      "    Blood Pressure Cholesterol Level Outcome Variable  \n",
      "239         Normal               Low         Negative  \n",
      "240         Normal            Normal         Negative  \n",
      "241         Normal            Normal         Negative  \n",
      "242         Normal            Normal         Negative  \n",
      "243           High              High         Negative  \n",
      "..             ...               ...              ...  \n",
      "344           High              High         Positive  \n",
      "345           High              High         Positive  \n",
      "346           High              High         Positive  \n",
      "347           High              High         Positive  \n",
      "348           High              High         Positive  \n",
      "\n",
      "[110 rows x 10 columns]\n"
     ]
    }
   ],
   "source": [
    "# Identifying rows where age is greater than 50\n",
    "age_greater_than_fifty = data[data['Age'] > 50]\n",
    "\n",
    "# Displaying the rows\n",
    "print(age_greater_than_fifty)"
   ]
  },
  {
   "cell_type": "code",
   "execution_count": 46,
   "id": "3853390d",
   "metadata": {},
   "outputs": [
    {
     "name": "stdout",
     "output_type": "stream",
     "text": [
      "                                          Disease Fever Cough Fatigue  \\\n",
      "0                                       Influenza   Yes    No     Yes   \n",
      "3                                          Asthma   Yes   Yes      No   \n",
      "4                                          Asthma   Yes   Yes      No   \n",
      "6                                       Influenza   Yes   Yes     Yes   \n",
      "7                                       Influenza   Yes   Yes     Yes   \n",
      "..                                            ...   ...   ...     ...   \n",
      "314                                    Bronchitis   Yes    No     Yes   \n",
      "315  Chronic Obstructive Pulmonary Disease (COPD)   Yes    No     Yes   \n",
      "316  Chronic Obstructive Pulmonary Disease (COPD)   Yes    No     Yes   \n",
      "330  Chronic Obstructive Pulmonary Disease (COPD)    No   Yes     Yes   \n",
      "331  Chronic Obstructive Pulmonary Disease (COPD)    No   Yes     Yes   \n",
      "\n",
      "    Difficulty Breathing  Age  Gender Blood Pressure Cholesterol Level  \\\n",
      "0                    Yes   19  Female            Low            Normal   \n",
      "3                    Yes   25    Male         Normal            Normal   \n",
      "4                    Yes   25    Male         Normal            Normal   \n",
      "6                    Yes   25  Female         Normal            Normal   \n",
      "7                    Yes   25  Female         Normal            Normal   \n",
      "..                   ...  ...     ...            ...               ...   \n",
      "314                  Yes   65    Male           High              High   \n",
      "315                  Yes   65  Female           High              High   \n",
      "316                  Yes   65  Female           High              High   \n",
      "330                  Yes   70    Male         Normal              High   \n",
      "331                  Yes   70    Male         Normal              High   \n",
      "\n",
      "    Outcome Variable  \n",
      "0           Positive  \n",
      "3           Positive  \n",
      "4           Positive  \n",
      "6           Positive  \n",
      "7           Positive  \n",
      "..               ...  \n",
      "314         Positive  \n",
      "315         Positive  \n",
      "316         Positive  \n",
      "330         Negative  \n",
      "331         Negative  \n",
      "\n",
      "[88 rows x 10 columns]\n"
     ]
    }
   ],
   "source": [
    "# Identifying rows where Difficulty_level is Yes\n",
    "Difficulty_level = data[data['Difficulty Breathing'] == 'Yes']\n",
    "\n",
    "# Displaying the rows\n",
    "print(Difficulty_level)"
   ]
  },
  {
   "cell_type": "markdown",
   "id": "1e82a978",
   "metadata": {},
   "source": [
    "# Step 6 : Data Visualization"
   ]
  },
  {
   "cell_type": "code",
   "execution_count": 7,
   "id": "3bd46e01",
   "metadata": {},
   "outputs": [
    {
     "data": {
      "image/png": "[encoded data removed]",
      "text/plain": [
       "<Figure size 720x432 with 1 Axes>"
      ]
     },
     "metadata": {
      "needs_background": "light"
     },
     "output_type": "display_data"
    }
   ],
   "source": [
    "# Assigning data to df variable\n",
    "df = pd.DataFrame(data)\n",
    "\n",
    "# Creating a pie chart for car owners\n",
    "plt.figure(figsize=(10,6))\n",
    "df['Age'].value_counts().plot(kind='bar')\n",
    "plt.title(\"Number of Patients Age-wise\")\n",
    "plt.xlabel('Age')\n",
    "plt.ylabel('count')\n",
    "plt.show()"
   ]
  },
  {
   "cell_type": "code",
   "execution_count": 76,
   "id": "bbaf8e1b",
   "metadata": {},
   "outputs": [
    {
     "data": {
      "image/png": "[encoded data removed]",
      "text/plain": [
       "<Figure size 432x288 with 1 Axes>"
      ]
     },
     "metadata": {
      "needs_background": "light"
     },
     "output_type": "display_data"
    }
   ],
   "source": [
    "# Creating bar chart for top 10 Diseases\n",
    "df['Disease'].value_counts().head(10).plot(kind='bar',color='g',fontsize=10,edgecolor='black',width=0.8)\n",
    "plt.xlabel('Diesease Name',weight='bold',fontsize=14)\n",
    "plt.ylabel('Count',weight='bold',fontsize=14)\n",
    "plt.title('Top 10 Dieseases',weight='bold',fontsize=14)\n",
    "plt.xticks(rotation=90)\n",
    "plt.show()"
   ]
  },
  {
   "cell_type": "code",
   "execution_count": 4,
   "id": "94ccd300",
   "metadata": {},
   "outputs": [
    {
     "ename": "NameError",
     "evalue": "name 'data' is not defined",
     "output_type": "error",
     "traceback": [
      "\u001b[1;31m---------------------------------------------------------------------------\u001b[0m",
      "\u001b[1;31mNameError\u001b[0m                                 Traceback (most recent call last)",
      "\u001b[1;32m~\\AppData\\Local\\Temp/ipykernel_9940/3486492242.py\u001b[0m in \u001b[0;36m<module>\u001b[1;34m\u001b[0m\n\u001b[0;32m      1\u001b[0m \u001b[1;31m# Assigning data to df variable\u001b[0m\u001b[1;33m\u001b[0m\u001b[1;33m\u001b[0m\u001b[0m\n\u001b[1;32m----> 2\u001b[1;33m \u001b[0mdf\u001b[0m \u001b[1;33m=\u001b[0m \u001b[0mpd\u001b[0m\u001b[1;33m.\u001b[0m\u001b[0mDataFrame\u001b[0m\u001b[1;33m(\u001b[0m\u001b[0mdata\u001b[0m\u001b[1;33m)\u001b[0m\u001b[1;33m\u001b[0m\u001b[1;33m\u001b[0m\u001b[0m\n\u001b[0m\u001b[0;32m      3\u001b[0m \u001b[1;33m\u001b[0m\u001b[0m\n\u001b[0;32m      4\u001b[0m \u001b[1;31m# Creating a pie chart for car owners\u001b[0m\u001b[1;33m\u001b[0m\u001b[1;33m\u001b[0m\u001b[0m\n\u001b[0;32m      5\u001b[0m \u001b[0mdf\u001b[0m\u001b[1;33m[\u001b[0m\u001b[1;34m'Blood Pressure'\u001b[0m\u001b[1;33m]\u001b[0m\u001b[1;33m.\u001b[0m\u001b[0mvalue_counts\u001b[0m\u001b[1;33m(\u001b[0m\u001b[1;33m)\u001b[0m\u001b[1;33m.\u001b[0m\u001b[0mplot\u001b[0m\u001b[1;33m(\u001b[0m\u001b[0mkind\u001b[0m\u001b[1;33m=\u001b[0m\u001b[1;34m'pie'\u001b[0m\u001b[1;33m,\u001b[0m\u001b[0mautopct\u001b[0m\u001b[1;33m=\u001b[0m\u001b[1;34m'%1.1f%%'\u001b[0m\u001b[1;33m)\u001b[0m\u001b[1;33m\u001b[0m\u001b[1;33m\u001b[0m\u001b[0m\n",
      "\u001b[1;31mNameError\u001b[0m: name 'data' is not defined"
     ]
    }
   ],
   "source": [
    "# Assigning data to df variable\n",
    "df = pd.DataFrame(data)\n",
    "\n",
    "# Creating a pie chart for car owners\n",
    "df['Blood Pressure'].value_counts().plot(kind='pie',autopct='%1.1f%%')\n",
    "plt.title('Blood Pressure Report',weight='bold',fontsize=14)\n",
    "plt.legend(loc='upper right', fontsize=12, shadow=True,bbox_to_anchor=(2,1))  # Set legend properties\n",
    "plt.show()"
   ]
  },
  {
   "cell_type": "code",
   "execution_count": 81,
   "id": "e70467bc",
   "metadata": {},
   "outputs": [
    {
     "data": {
      "image/png": "[encoded data removed]",
      "text/plain": [
       "<Figure size 432x288 with 1 Axes>"
      ]
     },
     "metadata": {
      "needs_background": "light"
     },
     "output_type": "display_data"
    }
   ],
   "source": [
    "# Creating bar chart of number of cars sold by fuel type\n",
    "plt.figure(figsize=(6,4))\n",
    "df['Gender'].value_counts().plot(kind='bar',color='#f34089',edgecolor='black',width=0.8)\n",
    "plt.title('Male and Female Patients',weight='bold',fontsize=14)\n",
    "plt.xlabel('Gender',weight='bold',fontsize=14)\n",
    "plt.ylabel('Count',weight='bold',fontsize=14)\n",
    "plt.show()"
   ]
  },
  {
   "cell_type": "code",
   "execution_count": 88,
   "id": "d9e647ea",
   "metadata": {},
   "outputs": [
    {
     "data": {
      "image/png": "[encoded data removed]",
      "text/plain": [
       "<Figure size 720x432 with 4 Axes>"
      ]
     },
     "metadata": {
      "needs_background": "light"
     },
     "output_type": "display_data"
    }
   ],
   "source": [
    "# Creating histogram of selling price distribution\n",
    "plt.figure(figsize=(10, 6))\n",
    "plt.subplot(2, 2, 1)\n",
    "plt.hist(df['Blood Pressure'],color='#ff7f0e',edgecolor='black')\n",
    "plt.title('Blood Pressure Report')\n",
    "plt.xlabel('Level')\n",
    "plt.ylabel('Count')\n",
    "\n",
    "# Creating histogram of kilometer driven distribution\n",
    "plt.subplot(2, 2, 2)\n",
    "plt.hist(df['Cholesterol Level'], color='#ff7f0e',edgecolor='black')\n",
    "plt.title('Cholesterol Leve Report')\n",
    "plt.xlabel('Level')\n",
    "plt.ylabel('Count')\n",
    "\n",
    "# Creating histogram of mileage distribution\n",
    "plt.subplot(2, 2, 3)\n",
    "plt.hist(df['Outcome Variable'],color='#ff7f0e', edgecolor='black')\n",
    "plt.title('Results')\n",
    "plt.xlabel('Status')\n",
    "plt.ylabel('Count')\n",
    "\n",
    "# Creating histogram of engine distribution\n",
    "plt.subplot(2, 2, 4)\n",
    "plt.hist(df['Gender'], color='#ff7f0e',edgecolor='black')\n",
    "plt.title('Gender Ratio')\n",
    "plt.xlabel('Gender')\n",
    "plt.ylabel('Count')\n",
    "\n",
    "plt.tight_layout()\n",
    "plt.show()"
   ]
  },
  {
   "cell_type": "code",
   "execution_count": 8,
   "id": "8a0e256a",
   "metadata": {},
   "outputs": [
    {
     "data": {
      "image/png": "[encoded data removed]",
      "text/plain": [
       "<Figure size 1440x720 with 1 Axes>"
      ]
     },
     "metadata": {
      "needs_background": "light"
     },
     "output_type": "display_data"
    }
   ],
   "source": [
    "# Creating line chart to know trend of selling price over years\n",
    "plt.figure(figsize=(20,10))\n",
    "df.groupby('Disease')['Age'].mean().plot(marker='o')\n",
    "plt.xlabel('Disease Name',weight='bold',fontsize=14)\n",
    "plt.ylabel('Count',weight='bold',fontsize=14)\n",
    "plt.title('Overview of Patients Record',weight='bold',fontsize=14)\n",
    "plt.show()"
   ]
  },
  {
   "cell_type": "markdown",
   "id": "05e7a896",
   "metadata": {},
   "source": [
    "# Conclusion"
   ]
  },
  {
   "cell_type": "markdown",
   "id": "9208ecf3",
   "metadata": {},
   "source": [
    "#### The Heathcare sales dataset provides values insights of patients trends on Various Diseases with its Parameters. Through careful analysis of the given data. Several keys are found\n"
   ]
  },
  {
   "cell_type": "markdown",
   "id": "665758b5",
   "metadata": {},
   "source": [
    "#### \n",
    "* Females are little likely to be sick than males.\n",
    "* AB- blood group people are more likely to get diseases than other blood groups people.\n",
    "* Asthama Disease is the top most disease among the all the patients followed by the Stroke and Osteoporosis.\n",
    "* Most of the patients with age between 45 and 35."
   ]
  },
  {
   "cell_type": "code",
   "execution_count": null,
   "id": "fda2f5f6",
   "metadata": {},
   "outputs": [],
   "source": []
  }
 ],
 "metadata": {
  "kernelspec": {
   "display_name": "Python 3 (ipykernel)",
   "language": "python",
   "name": "python3"
  },
  "language_info": {
   "codemirror_mode": {
    "name": "ipython",
    "version": 3
   },
   "file_extension": ".py",
   "mimetype": "text/x-python",
   "name": "python",
   "nbconvert_exporter": "python",
   "pygments_lexer": "ipython3",
   "version": "3.9.7"
  }
 },
 "nbformat": 4,
 "nbformat_minor": 5
}
